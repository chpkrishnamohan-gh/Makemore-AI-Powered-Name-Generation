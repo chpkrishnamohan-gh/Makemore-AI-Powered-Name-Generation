{
 "cells": [
  {
   "cell_type": "code",
   "execution_count": 1,
   "id": "32102113-2b05-4bc7-8230-308ad59248aa",
   "metadata": {},
   "outputs": [],
   "source": [
    "import torch\n",
    "import torch.nn.functional as F\n",
    "import matplotlib.pyplot as plt\n",
    "import torch"
   ]
  },
  {
   "cell_type": "code",
   "execution_count": 2,
   "id": "399117cd-37a1-403d-ae8c-1a77fa7f0283",
   "metadata": {},
   "outputs": [],
   "source": [
    "str1 = open('names.txt','r').read().splitlines()"
   ]
  },
  {
   "cell_type": "code",
   "execution_count": 3,
   "id": "b50c8c98-95f9-4618-962b-6fbc7acee368",
   "metadata": {},
   "outputs": [],
   "source": [
    "allchars = sorted(list(set(''.join(str1))))"
   ]
  },
  {
   "cell_type": "code",
   "execution_count": 4,
   "id": "b575ae19-9eb9-489b-98f8-e5b314045693",
   "metadata": {},
   "outputs": [],
   "source": [
    "stoi = {s:i+1 for i,s in enumerate(allchars)}\n",
    "stoi['.'] = 0\n",
    "itos = {i:s for s,i in stoi.items()}"
   ]
  },
  {
   "cell_type": "code",
   "execution_count": 5,
   "id": "ab926ce9-c82f-4b2d-90b0-5901176c65f5",
   "metadata": {},
   "outputs": [],
   "source": [
    "def set_giver(str1) :\n",
    "    X,Y = [],[]\n",
    "    block_size = 8\n",
    "    for word in str1 :\n",
    "        word = word + '.'\n",
    "        context = [0]*block_size\n",
    "        for ch in word :\n",
    "            ix = stoi[ch]\n",
    "            X.append(context)\n",
    "            Y.append(ix)\n",
    "            context = context[1:] + [ix]\n",
    "    X = torch.tensor(X)\n",
    "    Y = torch.tensor(Y)\n",
    "    return X,Y"
   ]
  },
  {
   "cell_type": "code",
   "execution_count": 6,
   "id": "f1817bd5-1fd9-4db5-bc2c-a4d295999ef6",
   "metadata": {},
   "outputs": [],
   "source": [
    "X,Y = set_giver(str1)"
   ]
  },
  {
   "cell_type": "code",
   "execution_count": 7,
   "id": "ca129409-7933-49cc-97b7-134f700c807f",
   "metadata": {},
   "outputs": [],
   "source": [
    "import random\n",
    "random.seed(42)\n",
    "random.shuffle(str1)\n",
    "\n",
    "str1_len = len(str1)\n",
    "\n",
    "n1 = int(0.8*(str1_len))\n",
    "n2 = int(0.9*(str1_len))\n",
    "\n",
    "Xtr,Ytr = set_giver(str1[:n1])\n",
    "Xdev,Ydev = set_giver(str1[n1:n2])\n",
    "Xtest,Ytest = set_giver(str1[n2:])"
   ]
  },
  {
   "cell_type": "code",
   "execution_count": 8,
   "id": "75187417-f05f-4501-804f-f09e03032ce6",
   "metadata": {},
   "outputs": [
    {
     "data": {
      "text/plain": [
       "torch.Size([182625])"
      ]
     },
     "execution_count": 8,
     "metadata": {},
     "output_type": "execute_result"
    }
   ],
   "source": [
    "Ytr.shape"
   ]
  },
  {
   "cell_type": "code",
   "execution_count": 9,
   "id": "8f89a72d-6be1-4bd4-906a-38469d0b0c60",
   "metadata": {},
   "outputs": [],
   "source": [
    "class Linear:\n",
    "    def __init__(self,fan_in,fan_out,bias = True):\n",
    "        self.weight = torch.randn((fan_in,fan_out)) / (fan_in**0.5)\n",
    "        self.bias = torch.zeros(fan_out) if bias else None\n",
    "    def __call__(self,x):\n",
    "        self.out = x @ self.weight\n",
    "        if self.bias is not None :\n",
    "            self.out += self.bias\n",
    "        return self.out\n",
    "    def parameters(self):\n",
    "        return [self.weight] + ([] if self.bias is None else [self.bias])"
   ]
  },
  {
   "cell_type": "code",
   "execution_count": 10,
   "id": "fc7390e6-bb16-407a-a5c9-5eb6c3f2f0c6",
   "metadata": {},
   "outputs": [],
   "source": [
    "class BatchNorm1d:\n",
    "    def __init__(self,dim,eps = 1e-5,momentum = 0.1):\n",
    "        self.eps = eps\n",
    "        self.momentum = momentum\n",
    "        self.training = True\n",
    "        \n",
    "        self.gamma = torch.ones(dim)\n",
    "        self.beta = torch.zeros(dim)\n",
    "\n",
    "        self.running_mean = torch.zeros(dim)\n",
    "        self.running_var = torch.ones(dim)\n",
    "    def __call__(self,x):\n",
    "        if x.ndim == 2 :\n",
    "            dim = 0\n",
    "        elif x.ndim == 3 :\n",
    "            dim = (0,1)\n",
    "        if self.training:\n",
    "            xmean = x.mean(dim,keepdim = True)\n",
    "            xvar = x.var(dim,keepdim = True)\n",
    "        else:\n",
    "            xmean = self.running_mean\n",
    "            xvar = self.running_var\n",
    "        xnext = (x-xmean)/torch.sqrt(xvar + self.eps)\n",
    "        self.out = self.gamma*(xnext) + self.beta\n",
    "        if self.training :\n",
    "            with torch.no_grad():\n",
    "                self.running_mean = (1-self.momentum)*self.running_mean + self.momentum*xmean\n",
    "                self.running_var  = (1-self.momentum)*self.running_var + self.momentum*xvar\n",
    "        return self.out\n",
    "    def parameters(self):\n",
    "        return [self.gamma,self.beta]"
   ]
  },
  {
   "cell_type": "code",
   "execution_count": 11,
   "id": "ef9aad52-c53c-4e34-9338-52c147bb92c3",
   "metadata": {},
   "outputs": [],
   "source": [
    "class Tanh:\n",
    "    def __call__(self,x):\n",
    "        self.out = torch.tanh(x)\n",
    "        return self.out\n",
    "    def parameters(self):\n",
    "        return []"
   ]
  },
  {
   "cell_type": "code",
   "execution_count": 12,
   "id": "7e2800fd-126b-4049-a1fd-deccabd56058",
   "metadata": {},
   "outputs": [],
   "source": [
    "class Embedding :\n",
    "    def __init__(self,num_emb,emb_dim) :\n",
    "        self.weight = torch.randn((num_emb,emb_dim))\n",
    "    def __call__(self,X) :\n",
    "        self.out = self.weight[X]\n",
    "        return self.out\n",
    "    def parameters(self) :\n",
    "        return [self.weight]"
   ]
  },
  {
   "cell_type": "code",
   "execution_count": 13,
   "id": "456cf7f8-842c-409b-acf1-aade0a623849",
   "metadata": {},
   "outputs": [],
   "source": [
    "class FlattenConsecutive :\n",
    "    def __init__(self,n) :\n",
    "        self.n = n\n",
    "    def __call__(self,X) :\n",
    "        B , T , C = X.shape\n",
    "        X = X.view(B,T//self.n,self.n*C)\n",
    "        if X.shape[1] == 1 :\n",
    "            X = X.squeeze(1)\n",
    "        self.out = X \n",
    "        return self.out\n",
    "    def parameters(self) :\n",
    "        return []"
   ]
  },
  {
   "cell_type": "code",
   "execution_count": 14,
   "id": "3e780417-5ac7-4676-8b8c-bf742a403a54",
   "metadata": {},
   "outputs": [],
   "source": [
    "class Sequential :\n",
    "    def __init__(self,layers) :\n",
    "        self.layers = layers\n",
    "    def __call__(self,X) :\n",
    "        for layer in self.layers :\n",
    "            X = layer(X)\n",
    "        self.out = X\n",
    "        return self.out\n",
    "    def parameters(self) :\n",
    "        return [p for layer in self.layers for p in layer.parameters()]"
   ]
  },
  {
   "cell_type": "code",
   "execution_count": 15,
   "id": "99ef8d07-cda5-4926-b3e3-0499f99d5aed",
   "metadata": {},
   "outputs": [],
   "source": [
    "gen = torch.Generator().manual_seed(2147483647)"
   ]
  },
  {
   "cell_type": "code",
   "execution_count": 16,
   "id": "5aa51b8a-8864-4011-a2ae-9a940a33469d",
   "metadata": {},
   "outputs": [
    {
     "name": "stdout",
     "output_type": "stream",
     "text": [
      "76579\n"
     ]
    }
   ],
   "source": [
    "n_emb = 24\n",
    "n_hidden = 128\n",
    "\n",
    "vocab_size = 27\n",
    "block_size = 8\n",
    "\n",
    "step_size = 2\n",
    "\n",
    "model = Sequential([\n",
    "    Embedding(vocab_size,n_emb),\n",
    "    FlattenConsecutive(step_size),Linear(n_emb*step_size,n_hidden,bias = False),BatchNorm1d(n_hidden),Tanh(),\n",
    "    FlattenConsecutive(step_size),Linear(step_size*n_hidden,n_hidden,bias = False),BatchNorm1d(n_hidden),Tanh(),\n",
    "    FlattenConsecutive(step_size),Linear(step_size*n_hidden,n_hidden,bias = False),BatchNorm1d(n_hidden),Tanh(),\n",
    "    Linear(n_hidden,vocab_size),\n",
    "])\n",
    "\n",
    "with torch.no_grad() :\n",
    "     model.layers[-1].weight *= 0.1\n",
    "     # for layer in layers[:-1] :\n",
    "     #     if(isinstance(layer,Linear)) :\n",
    "     #        layer.weight *= 5/3\n",
    "     \n",
    "\n",
    "parameters = model.parameters()\n",
    "print(sum(p.nelement() for p in parameters))\n",
    "for p in parameters :\n",
    "    p.requires_grad = True"
   ]
  },
  {
   "cell_type": "code",
   "execution_count": 17,
   "id": "db773a73-84db-48fc-a6c5-46d7b1b896d2",
   "metadata": {},
   "outputs": [
    {
     "data": {
      "text/plain": [
       "torch.Size([182625, 8])"
      ]
     },
     "execution_count": 17,
     "metadata": {},
     "output_type": "execute_result"
    }
   ],
   "source": [
    "Xtr.shape"
   ]
  },
  {
   "cell_type": "code",
   "execution_count": 18,
   "id": "d97ee7d9-dcde-4f00-a9bb-be322ec8dffd",
   "metadata": {
    "scrolled": true
   },
   "outputs": [
    {
     "name": "stdout",
     "output_type": "stream",
     "text": [
      "epoch : 0\n",
      "epoch : 1000\n",
      "epoch : 2000\n",
      "epoch : 3000\n",
      "epoch : 4000\n",
      "epoch : 5000\n",
      "epoch : 6000\n",
      "epoch : 7000\n",
      "epoch : 8000\n",
      "epoch : 9000\n",
      "epoch : 10000\n",
      "epoch : 11000\n",
      "epoch : 12000\n",
      "epoch : 13000\n",
      "epoch : 14000\n",
      "epoch : 15000\n",
      "epoch : 16000\n",
      "epoch : 17000\n",
      "epoch : 18000\n",
      "epoch : 19000\n",
      "epoch : 20000\n",
      "epoch : 21000\n",
      "epoch : 22000\n",
      "epoch : 23000\n",
      "epoch : 24000\n",
      "epoch : 25000\n",
      "epoch : 26000\n",
      "epoch : 27000\n",
      "epoch : 28000\n",
      "epoch : 29000\n",
      "epoch : 30000\n",
      "epoch : 31000\n",
      "epoch : 32000\n",
      "epoch : 33000\n",
      "epoch : 34000\n",
      "epoch : 35000\n",
      "epoch : 36000\n",
      "epoch : 37000\n",
      "epoch : 38000\n",
      "epoch : 39000\n",
      "epoch : 40000\n",
      "epoch : 41000\n",
      "epoch : 42000\n",
      "epoch : 43000\n",
      "epoch : 44000\n",
      "epoch : 45000\n",
      "epoch : 46000\n",
      "epoch : 47000\n",
      "epoch : 48000\n",
      "epoch : 49000\n",
      "epoch : 50000\n",
      "epoch : 51000\n",
      "epoch : 52000\n",
      "epoch : 53000\n",
      "epoch : 54000\n",
      "epoch : 55000\n",
      "epoch : 56000\n",
      "epoch : 57000\n",
      "epoch : 58000\n",
      "epoch : 59000\n",
      "epoch : 60000\n",
      "epoch : 61000\n",
      "epoch : 62000\n",
      "epoch : 63000\n",
      "epoch : 64000\n",
      "epoch : 65000\n",
      "epoch : 66000\n",
      "epoch : 67000\n",
      "epoch : 68000\n",
      "epoch : 69000\n",
      "epoch : 70000\n",
      "epoch : 71000\n",
      "epoch : 72000\n",
      "epoch : 73000\n",
      "epoch : 74000\n",
      "epoch : 75000\n",
      "epoch : 76000\n",
      "epoch : 77000\n",
      "epoch : 78000\n",
      "epoch : 79000\n",
      "epoch : 80000\n",
      "epoch : 81000\n",
      "epoch : 82000\n",
      "epoch : 83000\n",
      "epoch : 84000\n",
      "epoch : 85000\n",
      "epoch : 86000\n",
      "epoch : 87000\n",
      "epoch : 88000\n",
      "epoch : 89000\n",
      "epoch : 90000\n",
      "epoch : 91000\n",
      "epoch : 92000\n",
      "epoch : 93000\n",
      "epoch : 94000\n",
      "epoch : 95000\n",
      "epoch : 96000\n",
      "epoch : 97000\n",
      "epoch : 98000\n",
      "epoch : 99000\n",
      "epoch : 100000\n",
      "epoch : 101000\n",
      "epoch : 102000\n",
      "epoch : 103000\n",
      "epoch : 104000\n",
      "epoch : 105000\n",
      "epoch : 106000\n",
      "epoch : 107000\n",
      "epoch : 108000\n",
      "epoch : 109000\n",
      "epoch : 110000\n",
      "epoch : 111000\n",
      "epoch : 112000\n",
      "epoch : 113000\n",
      "epoch : 114000\n",
      "epoch : 115000\n",
      "epoch : 116000\n",
      "epoch : 117000\n",
      "epoch : 118000\n",
      "epoch : 119000\n",
      "epoch : 120000\n",
      "epoch : 121000\n",
      "epoch : 122000\n",
      "epoch : 123000\n",
      "epoch : 124000\n",
      "epoch : 125000\n",
      "epoch : 126000\n",
      "epoch : 127000\n",
      "epoch : 128000\n",
      "epoch : 129000\n",
      "epoch : 130000\n",
      "epoch : 131000\n",
      "epoch : 132000\n",
      "epoch : 133000\n",
      "epoch : 134000\n",
      "epoch : 135000\n",
      "epoch : 136000\n",
      "epoch : 137000\n",
      "epoch : 138000\n",
      "epoch : 139000\n",
      "epoch : 140000\n",
      "epoch : 141000\n",
      "epoch : 142000\n",
      "epoch : 143000\n",
      "epoch : 144000\n",
      "epoch : 145000\n",
      "epoch : 146000\n",
      "epoch : 147000\n",
      "epoch : 148000\n",
      "epoch : 149000\n",
      "epoch : 150000\n",
      "epoch : 151000\n",
      "epoch : 152000\n",
      "epoch : 153000\n",
      "epoch : 154000\n",
      "epoch : 155000\n",
      "epoch : 156000\n",
      "epoch : 157000\n",
      "epoch : 158000\n",
      "epoch : 159000\n",
      "epoch : 160000\n",
      "epoch : 161000\n",
      "epoch : 162000\n",
      "epoch : 163000\n",
      "epoch : 164000\n",
      "epoch : 165000\n",
      "epoch : 166000\n",
      "epoch : 167000\n",
      "epoch : 168000\n",
      "epoch : 169000\n",
      "epoch : 170000\n",
      "epoch : 171000\n",
      "epoch : 172000\n",
      "epoch : 173000\n",
      "epoch : 174000\n",
      "epoch : 175000\n",
      "epoch : 176000\n",
      "epoch : 177000\n",
      "epoch : 178000\n",
      "epoch : 179000\n",
      "epoch : 180000\n",
      "epoch : 181000\n",
      "epoch : 182000\n",
      "epoch : 183000\n",
      "epoch : 184000\n",
      "epoch : 185000\n",
      "epoch : 186000\n",
      "epoch : 187000\n",
      "epoch : 188000\n",
      "epoch : 189000\n",
      "epoch : 190000\n",
      "epoch : 191000\n",
      "epoch : 192000\n",
      "epoch : 193000\n",
      "epoch : 194000\n",
      "epoch : 195000\n",
      "epoch : 196000\n",
      "epoch : 197000\n",
      "epoch : 198000\n",
      "epoch : 199000\n"
     ]
    }
   ],
   "source": [
    "iterations = 200000\n",
    "batch_size = 32\n",
    "\n",
    "lossi = []\n",
    "\n",
    "for i in range(iterations) :\n",
    "    ix = torch.randint(0,Xtr.shape[0],(batch_size,),generator = gen)\n",
    "    X_batch = Xtr[ix]\n",
    "    Y_batch = Ytr[ix]\n",
    "    logits = model(X_batch)\n",
    "    loss = F.cross_entropy(logits,Y_batch)\n",
    "\n",
    "    for p in parameters :\n",
    "        p.grad = None\n",
    "    loss.backward()\n",
    "\n",
    "    lr = 0.1 if i < 150000 else 0.01\n",
    "    for p in parameters :\n",
    "        p.data += -lr * p.grad\n",
    "        \n",
    "    lossi.append(loss.item())\n",
    "    if i % 1000 == 0 :\n",
    "        print(f'epoch : {i}')"
   ]
  },
  {
   "cell_type": "code",
   "execution_count": 19,
   "id": "92d598db-114c-49c0-9f28-5cd68e898945",
   "metadata": {},
   "outputs": [
    {
     "data": {
      "image/png": "[encoded data removed]",
      "text/plain": [
       "<Figure size 640x480 with 1 Axes>"
      ]
     },
     "metadata": {},
     "output_type": "display_data"
    }
   ],
   "source": [
    "plt.plot(lossi)\n",
    "plt.show()"
   ]
  },
  {
   "cell_type": "code",
   "execution_count": 20,
   "id": "444c678b-310d-425b-b2e6-661c2a7e563b",
   "metadata": {},
   "outputs": [
    {
     "data": {
      "text/plain": [
       "[<matplotlib.lines.Line2D at 0x1498d0bebc0>]"
      ]
     },
     "execution_count": 20,
     "metadata": {},
     "output_type": "execute_result"
    },
    {
     "data": {
      "image/png": "[encoded data removed]",
      "text/plain": [
       "<Figure size 640x480 with 1 Axes>"
      ]
     },
     "metadata": {},
     "output_type": "display_data"
    }
   ],
   "source": [
    "lossi_mod = torch.tensor(lossi).view(-1,1000).mean(1)\n",
    "plt.plot(lossi_mod)"
   ]
  },
  {
   "cell_type": "code",
   "execution_count": 21,
   "id": "5d948f5e-b641-425a-a745-a6263007464e",
   "metadata": {},
   "outputs": [
    {
     "data": {
      "text/plain": [
       "tensor(1.8979, grad_fn=<NllLossBackward0>)"
      ]
     },
     "execution_count": 21,
     "metadata": {},
     "output_type": "execute_result"
    }
   ],
   "source": [
    "loss"
   ]
  },
  {
   "cell_type": "code",
   "execution_count": 22,
   "id": "68565eb2-c23e-4978-b7fc-c12e26b5212d",
   "metadata": {},
   "outputs": [],
   "source": [
    "for layer in model.layers :\n",
    "    layer.training = False"
   ]
  },
  {
   "cell_type": "code",
   "execution_count": 23,
   "id": "e73cd413-7b18-467a-b5e2-0676da0454d4",
   "metadata": {},
   "outputs": [
    {
     "name": "stdout",
     "output_type": "stream",
     "text": [
      "Dev loss :  1.9895551204681396\n"
     ]
    }
   ],
   "source": [
    "with torch.no_grad() :\n",
    "    logits_dev = model(Xdev)\n",
    "    loss_dev = F.cross_entropy(logits_dev,Ydev)\n",
    "print(\"Dev loss : \",loss_dev.item())"
   ]
  },
  {
   "cell_type": "code",
   "execution_count": 53,
   "id": "1dfa0641-304e-4435-b614-09f9ed928ba7",
   "metadata": {},
   "outputs": [
    {
     "name": "stdout",
     "output_type": "stream",
     "text": [
      "Test loss :  1.9881478548049927\n"
     ]
    }
   ],
   "source": [
    "with torch.no_grad() :\n",
    "    logits_test = model(Xtest)\n",
    "    loss_test = F.cross_entropy(logits_test,Ytest)\n",
    "print(\"Test loss : \",loss_test.item())"
   ]
  },
  {
   "cell_type": "code",
   "execution_count": 54,
   "id": "f8aa4769-1f31-4a46-aff9-83ee5bc01beb",
   "metadata": {},
   "outputs": [
    {
     "name": "stdout",
     "output_type": "stream",
     "text": [
      "shrima.\n"
     ]
    }
   ],
   "source": [
    "context = [0] * block_size\n",
    "result = []\n",
    "while True:\n",
    "    logits_sample = model(torch.tensor([context]))\n",
    "    probs = F.softmax(logits_sample,dim = 1)\n",
    "    ix = torch.multinomial(probs,1,replacement = True).item()\n",
    "    context = context[1:] + [ix]\n",
    "    result.append(ix)\n",
    "    if ix == 0 :\n",
    "        break\n",
    "print(''.join(itos[i] for i in result))"
   ]
  },
  {
   "cell_type": "code",
   "execution_count": null,
   "id": "d4a81e5d-b4db-4050-a70f-c0a346499d1e",
   "metadata": {},
   "outputs": [],
   "source": []
  }
 ],
 "metadata": {
  "kernelspec": {
   "display_name": "Python 3 (ipykernel)",
   "language": "python",
   "name": "python3"
  },
  "language_info": {
   "codemirror_mode": {
    "name": "ipython",
    "version": 3
   },
   "file_extension": ".py",
   "mimetype": "text/x-python",
   "name": "python",
   "nbconvert_exporter": "python",
   "pygments_lexer": "ipython3",
   "version": "3.10.0"
  }
 },
 "nbformat": 4,
 "nbformat_minor": 5
}
