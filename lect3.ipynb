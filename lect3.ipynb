{
 "cells": [
  {
   "cell_type": "code",
   "execution_count": 1,
   "id": "c16a2835-1e17-4d3f-aa36-1d4ab3e201d4",
   "metadata": {},
   "outputs": [],
   "source": [
    "import torch\n",
    "import torch.nn.functional as F\n",
    "import matplotlib.pyplot as plt"
   ]
  },
  {
   "cell_type": "code",
   "execution_count": 2,
   "id": "5d398c18-0093-463b-b29b-34ef0f8b0b3a",
   "metadata": {},
   "outputs": [],
   "source": [
    "names = open('names.txt','r').read().splitlines()"
   ]
  },
  {
   "cell_type": "code",
   "execution_count": 3,
   "id": "c631d4e7-0ce1-4ff6-8140-3e3fcf49a6ec",
   "metadata": {},
   "outputs": [],
   "source": [
    "chars1 = sorted(list(set(''.join(names))))\n",
    "stoi = {s:i+1 for i,s in enumerate(chars1)}\n",
    "stoi['.'] = 0\n",
    "itos = {i:s for s,i in stoi.items()}"
   ]
  },
  {
   "cell_type": "code",
   "execution_count": 4,
   "id": "cd7ace70-18ac-482f-b477-3a0bad494384",
   "metadata": {},
   "outputs": [],
   "source": [
    "block_size = 3\n",
    "X,Y = [],[]\n",
    "for name in names :\n",
    "    context = [0] * block_size\n",
    "    name = name + '.'\n",
    "    for ch in name :\n",
    "        ix = stoi[ch]\n",
    "        X.append(context)\n",
    "        Y.append(ix)\n",
    "        #print(''.join(itos[i] for i in context),'--->',itos[ix])\n",
    "        context = context[1:] + [ix];\n",
    "X = torch.tensor(X)\n",
    "Y = torch.tensor(Y)"
   ]
  },
  {
   "cell_type": "code",
   "execution_count": 5,
   "id": "fbb8e485-6918-4f80-9641-f88557afb62d",
   "metadata": {},
   "outputs": [],
   "source": [
    "def dataset(names) :\n",
    "    block_size = 3\n",
    "    X,Y = [],[]\n",
    "    for name in names :\n",
    "        context = [0] * block_size\n",
    "        name = name + '.'\n",
    "        for ch in name :\n",
    "            ix = stoi[ch]\n",
    "            X.append(context)\n",
    "            Y.append(ix)\n",
    "            #print(''.join(itos[i] for i in context),'--->',itos[ix])\n",
    "            context = context[1:] + [ix];\n",
    "    X = torch.tensor(X)\n",
    "    Y = torch.tensor(Y)\n",
    "    return X,Y"
   ]
  },
  {
   "cell_type": "code",
   "execution_count": 6,
   "id": "d46308f7-7351-413c-93ce-3031356ad63a",
   "metadata": {},
   "outputs": [],
   "source": [
    "import random\n",
    "random.seed(42)\n",
    "random.shuffle(names)\n",
    "n1 = int(0.8 * len(names))\n",
    "n2 = int(0.9 * len(names))\n",
    "\n",
    "Xtr,Ytr = dataset(names[:n1])\n",
    "Xdev,Ydev = dataset(names[n1:n2])\n",
    "Xtest,Ytest = dataset(names[n2:])"
   ]
  },
  {
   "cell_type": "code",
   "execution_count": 7,
   "id": "5e09596a-aa41-4af7-81b9-d15a9b27a202",
   "metadata": {},
   "outputs": [],
   "source": [
    "gen = torch.Generator().manual_seed(2147483647)\n",
    "C = torch.randn((27,10),generator = gen)"
   ]
  },
  {
   "cell_type": "code",
   "execution_count": 8,
   "id": "e84e5971-d7d1-486e-af86-b7db922b6664",
   "metadata": {},
   "outputs": [],
   "source": [
    "W1 = torch.randn((30,200),generator = gen) * 0.2\n",
    "b1 = torch.randn(200,generator = gen) * 0.01\n",
    "W2 = torch.randn((200,27),generator = gen)*0.01\n",
    "b2 = torch.randn(27,generator = gen)*0\n",
    "\n",
    "bngain = torch.ones((1,200)) \n",
    "bnbias = torch.zeros((1,200))\n",
    "\n",
    "bmean = torch.zeros((1,200))\n",
    "bstd = torch.ones((1,200)) \n",
    "\n",
    "parameters = [C,W1,W2,b1,b2,bngain,bnbias]"
   ]
  },
  {
   "cell_type": "code",
   "execution_count": 9,
   "id": "4dbd6de8-4029-447d-b2d7-da0776b48ecc",
   "metadata": {},
   "outputs": [],
   "source": [
    "for p in parameters :\n",
    "    p.requires_grad = True"
   ]
  },
  {
   "cell_type": "code",
   "execution_count": 10,
   "id": "6ca2457a-a339-4b59-876b-61b63669edf4",
   "metadata": {},
   "outputs": [
    {
     "name": "stdout",
     "output_type": "stream",
     "text": [
      "1.999336838722229\n"
     ]
    }
   ],
   "source": [
    "for i in range(100000) :\n",
    "    ix = torch.randint(0,Xtr.shape[0],(32,))\n",
    "    hpreact = C[Xtr[ix]].view((-1,30)) @ W1 + b1\n",
    "    bnmeani = hpreact.mean(0,keepdim = True)\n",
    "    bnstdi = hpreact.std(0,keepdim = True)\n",
    "    hpreact = bngain*(hpreact - bnmeani)/bnstdi + bnbias\n",
    "    with torch.no_grad():\n",
    "        bmean = 0.999*bmean + 0.1*bnmeani\n",
    "        bstd = 0.999*bstd + 0.1*bnstdi\n",
    "    h = torch.tanh(hpreact);\n",
    "    logits = h @ W2 + b2\n",
    "    loss = F.cross_entropy(logits,Ytr[ix])\n",
    "    for p in parameters :\n",
    "        p.grad = None\n",
    "    loss.backward()\n",
    "    lr = 0.1 if i <= 80000 else 0.01\n",
    "    for p in parameters :\n",
    "        p.data -= lr*p.grad\n",
    "print(loss.item())"
   ]
  },
  {
   "cell_type": "code",
   "execution_count": 11,
   "id": "34c8a02f-5a69-4252-ab1e-7caa9ac24613",
   "metadata": {},
   "outputs": [],
   "source": [
    "# with torch.no_grad():\n",
    "#     emb = C[Xtr]\n",
    "#     embcat = emb.view(emb.shape[0],-1)\n",
    "#     hpreact = embcat @ W1 + b1\n",
    "\n",
    "#     bmean = hpreact.mean(0,keepdim = True)\n",
    "#     bstd = hpreact.std(0,keepdim = True)"
   ]
  },
  {
   "cell_type": "code",
   "execution_count": 12,
   "id": "0138f096-6b3c-4170-b265-de5e34a89c1e",
   "metadata": {},
   "outputs": [
    {
     "data": {
      "text/plain": [
       "tensor(4.1251)"
      ]
     },
     "execution_count": 12,
     "metadata": {},
     "output_type": "execute_result"
    }
   ],
   "source": [
    "with torch.no_grad():\n",
    "    hpreact = C[Xdev].view((-1,30)) @ W1 + b1\n",
    "    hpreact = bngain*(hpreact - bmean)/bstd + bnbias\n",
    "    h = torch.tanh(hpreact);\n",
    "    logits = h @ W2 + b2\n",
    "    loss = F.cross_entropy(logits,Ydev)\n",
    "loss"
   ]
  },
  {
   "cell_type": "code",
   "execution_count": 13,
   "id": "df53994a-2ed1-4c96-a689-446405cff343",
   "metadata": {},
   "outputs": [
    {
     "data": {
      "text/plain": [
       "tensor(4.1352)"
      ]
     },
     "execution_count": 13,
     "metadata": {},
     "output_type": "execute_result"
    }
   ],
   "source": [
    "with torch.no_grad():\n",
    "    hpreact = C[Xtest].view((-1,30)) @ W1 + b1\n",
    "    hpreact = bngain*(hpreact - bmean)/bstd + bnbias\n",
    "    h = torch.tanh(hpreact);\n",
    "    logits = h @ W2 + b2\n",
    "    loss = F.cross_entropy(logits,Ytest)\n",
    "loss"
   ]
  },
  {
   "cell_type": "code",
   "execution_count": 14,
   "id": "12f6e2b4-de67-4506-9982-39d65a91d6f1",
   "metadata": {},
   "outputs": [
    {
     "name": "stdout",
     "output_type": "stream",
     "text": [
      "oyeiaieiyoauce.\n"
     ]
    }
   ],
   "source": [
    "block_size = 3\n",
    "context = [0] * block_size\n",
    "result = []\n",
    "while True:\n",
    "    hpreact = C[torch.tensor([context])].view((1,-1))@ W1 + b1\n",
    "    hpreact = bngain*(hpreact - bmean)/bstd + bnbias\n",
    "    h = torch.tanh(hpreact);\n",
    "    layer2 = h @ W2 + b2\n",
    "    probs = F.softmax(layer2,dim = 1)\n",
    "    ix = torch.multinomial(probs,1,replacement = True,generator = gen).item()\n",
    "    context = context[1:] + [ix]\n",
    "    result.append(ix)\n",
    "    if ix == 0 :\n",
    "        break\n",
    "print(''.join(itos[i] for i in result))"
   ]
  },
  {
   "cell_type": "code",
   "execution_count": null,
   "id": "d4316a50-479b-4175-bb3e-80c877fe5d2c",
   "metadata": {},
   "outputs": [],
   "source": []
  }
 ],
 "metadata": {
  "kernelspec": {
   "display_name": "Python 3 (ipykernel)",
   "language": "python",
   "name": "python3"
  },
  "language_info": {
   "codemirror_mode": {
    "name": "ipython",
    "version": 3
   },
   "file_extension": ".py",
   "mimetype": "text/x-python",
   "name": "python",
   "nbconvert_exporter": "python",
   "pygments_lexer": "ipython3",
   "version": "3.10.0"
  }
 },
 "nbformat": 4,
 "nbformat_minor": 5
}
